{
 "cells": [
  {
   "cell_type": "markdown",
   "metadata": {},
   "source": [
    "# Counting unique words in the given files"
   ]
  },
  {
   "cell_type": "code",
   "execution_count": 1,
   "metadata": {},
   "outputs": [],
   "source": [
    "# Importing library to add custom modules from different directories\n",
    "import sys\n",
    "\n",
    "# Adding path to look for modules when calling 'import'\n",
    "# sys.path.append('/home/my_name/Downloads')\n",
    "\n",
    "# Going through all paths where modules and packages are looked for importing\n",
    "# for path in sys.path:\n",
    "#    print(path)\n",
    "\n",
    "\n",
    "# Importing created Python file as utility\n",
    "import words_count_Python\n",
    "\n",
    "# Launching function to plot results\n",
    "# Using magic function that renders figure in jupyter notebook directly below the code cell that produced it\n",
    "%matplotlib inline\n",
    "\n",
    "# Implementing firstly main() function\n",
    "# Unpacking arguments with * and passing them to second function\n",
    "words_count_Python.plot_results(*words_count_Python.main())\n"
   ]
  },
 ],
 "metadata": {
  "kernelspec": {
   "display_name": "Python 3",
   "language": "python",
   "name": "python3"
  },
  "language_info": {
   "codemirror_mode": {
    "name": "ipython",
    "version": 3
   },
   "file_extension": ".py",
   "mimetype": "text/x-python",
   "name": "python",
   "nbconvert_exporter": "python",
   "pygments_lexer": "ipython3",
   "version": "3.5.6"
  }
 },
 "nbformat": 4,
 "nbformat_minor": 2
}
